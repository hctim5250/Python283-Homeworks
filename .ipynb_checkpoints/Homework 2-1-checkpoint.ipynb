{
 "cells": [
  {
   "cell_type": "markdown",
   "metadata": {},
   "source": [
    "印出所有可以將 87 整除的因數（正數）"
   ]
  },
  {
   "cell_type": "code",
   "execution_count": 1,
   "metadata": {
    "collapsed": false
   },
   "outputs": [],
   "source": [
    "def find_factor(x):\n",
    "    factors = []\n",
    "    for i in range(1, x+1):\n",
    "        if (x % i) == 0:\n",
    "            factors.append(i)\n",
    "    return factors"
   ]
  },
  {
   "cell_type": "code",
   "execution_count": 2,
   "metadata": {
    "collapsed": false
   },
   "outputs": [
    {
     "name": "stdout",
     "output_type": "stream",
     "text": [
      "[1, 3, 29, 87]\n"
     ]
    }
   ],
   "source": [
    "print(find_factor(87))"
   ]
  }
 ],
 "metadata": {
  "kernelspec": {
   "display_name": "Python 3",
   "language": "python",
   "name": "python3"
  },
  "language_info": {
   "codemirror_mode": {
    "name": "ipython",
    "version": 3
   },
   "file_extension": ".py",
   "mimetype": "text/x-python",
   "name": "python",
   "nbconvert_exporter": "python",
   "pygments_lexer": "ipython3",
   "version": "3.6.0"
  }
 },
 "nbformat": 4,
 "nbformat_minor": 2
}
