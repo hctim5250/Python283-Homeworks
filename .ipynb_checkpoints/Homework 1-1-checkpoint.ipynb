{
 "cells": [
  {
   "cell_type": "markdown",
   "metadata": {},
   "source": [
    "投擲一枚公正的骰子，總共出現三個六才停止，印出投擲次數跟投擲紀錄"
   ]
  },
  {
   "cell_type": "code",
   "execution_count": 1,
   "metadata": {
    "collapsed": false
   },
   "outputs": [
    {
     "name": "stdout",
     "output_type": "stream",
     "text": [
      "['6', '4', '2', '1', '6', '5', '5', '2', '3', '6']\n"
     ]
    }
   ],
   "source": [
    "from random import choice\n",
    "dice = [\"1\", \"2\", \"3\", \"4\", \"5\", \"6\"]\n",
    "flips = []\n",
    "while flips.count(\"6\")< 3:\n",
    "    flips.append(choice(dice))    \n",
    "print(flips)"
   ]
  }
 ],
 "metadata": {
  "kernelspec": {
   "display_name": "Python 3",
   "language": "python",
   "name": "python3"
  },
  "language_info": {
   "codemirror_mode": {
    "name": "ipython",
    "version": 3
   },
   "file_extension": ".py",
   "mimetype": "text/x-python",
   "name": "python",
   "nbconvert_exporter": "python",
   "pygments_lexer": "ipython3",
   "version": "3.6.0"
  }
 },
 "nbformat": 4,
 "nbformat_minor": 2
}
