{
 "cells": [
  {
   "cell_type": "markdown",
   "metadata": {},
   "source": [
    "計算 range(1, 101) 的標準差"
   ]
  },
  {
   "cell_type": "code",
   "execution_count": 1,
   "metadata": {
    "collapsed": false
   },
   "outputs": [
    {
     "name": "stdout",
     "output_type": "stream",
     "text": [
      "28.86607004772212\n"
     ]
    }
   ],
   "source": [
    "num = list(range(1, 101))\n",
    "avg =(sum(num) / len(num))\n",
    "sdsq = sum([(i - avg) ** 2 for i in num])\n",
    "stdev = ((sdsq / len(num))) ** 0.5\n",
    "print(stdev)"
   ]
  }
 ],
 "metadata": {
  "kernelspec": {
   "display_name": "Python 3",
   "language": "python",
   "name": "python3"
  },
  "language_info": {
   "codemirror_mode": {
    "name": "ipython",
    "version": 3
   },
   "file_extension": ".py",
   "mimetype": "text/x-python",
   "name": "python",
   "nbconvert_exporter": "python",
   "pygments_lexer": "ipython3",
   "version": "3.6.0"
  }
 },
 "nbformat": 4,
 "nbformat_minor": 2
}
