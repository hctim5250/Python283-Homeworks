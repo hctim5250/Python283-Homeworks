{
 "cells": [
  {
   "cell_type": "code",
   "execution_count": 3,
   "metadata": {},
   "outputs": [],
   "source": [
    "import pandas as pd\n",
    "import numpy as np"
   ]
  },
  {
   "cell_type": "code",
   "execution_count": 4,
   "metadata": {},
   "outputs": [
    {
     "name": "stdout",
     "output_type": "stream",
     "text": [
      "<class 'pandas.core.series.Series'>\n",
      "\n",
      "\n",
      "0     Monkey D. Luffy\n",
      "1        Roronoa Zoro\n",
      "2                Nami\n",
      "3               Usopp\n",
      "4      Vinsmoke Sanji\n",
      "5    Tony Tony Cooprt\n",
      "6          Nico Robin\n",
      "7              Franky\n",
      "8               Brook\n",
      "dtype: object\n"
     ]
    }
   ],
   "source": [
    "arr = np.array((\"Monkey D. Luffy\", \"Roronoa Zoro\", \"Nami\", \"Usopp\", \"Vinsmoke Sanji\", \"Tony Tony Cooprt\", \"Nico Robin\", \"Franky\", \"Brook\"))\n",
    "ser = pd.Series(arr)  #預設索引\n",
    "print(type(ser))\n",
    "print(\"\\n\")\n",
    "print(ser)"
   ]
  },
  {
   "cell_type": "code",
   "execution_count": 7,
   "metadata": {},
   "outputs": [
    {
     "name": "stdout",
     "output_type": "stream",
     "text": [
      "crew1     Monkey D. Luffy\n",
      "crew2        Roronoa Zoro\n",
      "crew3                Nami\n",
      "crew4               Usopp\n",
      "crew5      Vinsmoke Sanji\n",
      "crew6    Tony Tony Cooprt\n",
      "crew7          Nico Robin\n",
      "crew8              Franky\n",
      "crew9               Brook\n",
      "dtype: object\n"
     ]
    }
   ],
   "source": [
    "#自訂索引\n",
    "\n",
    "crew_idx = []\n",
    "for i in range(ser.size):\n",
    "    crew_idx.append('crew' + str(i + 1))\n",
    "ser = pd.Series(arr, index = crew_idx)\n",
    "print(ser)"
   ]
  },
  {
   "cell_type": "code",
   "execution_count": 11,
   "metadata": {},
   "outputs": [
    {
     "name": "stdout",
     "output_type": "stream",
     "text": [
      "archaeologist          Nico Robin\n",
      "captain           Monkey D. Luffy\n",
      "chef               Vinsmoke Sanji\n",
      "doctor           Tony Tony Cooprt\n",
      "musician                    Brook\n",
      "navigator                    Nami\n",
      "shipwright                 Franky\n",
      "sniper                      Usopp\n",
      "sordsman             Roronoa Zoro\n",
      "dtype: object\n"
     ]
    }
   ],
   "source": [
    "#Data是dict，預設會將Key當索引\n",
    "\n",
    "crew_dict = {\n",
    "    \"captain\" : \"Monkey D. Luffy\",\n",
    "    \"sordsman\" : \"Roronoa Zoro\",\n",
    "    \"navigator\" : \"Nami\",\n",
    "    \"sniper\" : \"Usopp\",\n",
    "    \"chef\" : \"Vinsmoke Sanji\",\n",
    "    \"doctor\" : \"Tony Tony Cooprt\",\n",
    "    \"archaeologist\" : \"Nico Robin\",\n",
    "    \"shipwright\" : \"Franky\",\n",
    "    \"musician\" : \"Brook\"\n",
    "}\n",
    "\n",
    "#按照index (key)排序\n",
    "ser = pd.Series(crew_dict).sort_index()\n",
    "print(ser)"
   ]
  },
  {
   "cell_type": "code",
   "execution_count": 10,
   "metadata": {},
   "outputs": [
    {
     "name": "stdout",
     "output_type": "stream",
     "text": [
      "captain           Monkey D. Luffy\n",
      "sordsman             Roronoa Zoro\n",
      "navigator                    Nami\n",
      "sniper                      Usopp\n",
      "chef               Vinsmoke Sanji\n",
      "doctor           Tony Tony Cooprt\n",
      "archaeologist          Nico Robin\n",
      "shipwright                 Franky\n",
      "musician                    Brook\n",
      "dtype: object\n"
     ]
    }
   ],
   "source": [
    "#按照Dict原本keys順序排序\n",
    "ser = pd.Series(crew_dict, index=crew_dict.keys())\n",
    "print(ser)"
   ]
  },
  {
   "cell_type": "code",
   "execution_count": 12,
   "metadata": {},
   "outputs": [
    {
     "name": "stdout",
     "output_type": "stream",
     "text": [
      "0    Monkey D. Luffy\n",
      "1    Monkey D. Luffy\n",
      "2    Monkey D. Luffy\n",
      "3    Monkey D. Luffy\n",
      "4    Monkey D. Luffy\n",
      "dtype: object\n"
     ]
    }
   ],
   "source": [
    "#data為單一資料\n",
    "\n",
    "luffy = \"Monkey D. Luffy\"\n",
    "ser = pd.Series(luffy, index=range(5))\n",
    "print(ser)"
   ]
  },
  {
   "cell_type": "code",
   "execution_count": 19,
   "metadata": {},
   "outputs": [
    {
     "name": "stdout",
     "output_type": "stream",
     "text": [
      "Monkey D. Luffy\n",
      "Monkey D. Luffy\n",
      "\n",
      "\n",
      "captain          Monkey D. Luffy\n",
      "sniper                     Usopp\n",
      "archaeologist         Nico Robin\n",
      "dtype: object\n",
      "captain          Monkey D. Luffy\n",
      "sniper                     Usopp\n",
      "archaeologist         Nico Robin\n",
      "dtype: object\n"
     ]
    }
   ],
   "source": [
    "#透過索引值或標籤選取資料\n",
    "\n",
    "ser = pd.Series(crew_dict, index=crew_dict.keys())\n",
    "print(ser[0])\n",
    "print(ser['captain'])\n",
    "print('\\n')\n",
    "print(ser[[0, 3, 6]])\n",
    "print(ser[['captain', 'sniper', 'archaeologist']])"
   ]
  },
  {
   "cell_type": "code",
   "execution_count": 23,
   "metadata": {},
   "outputs": [
    {
     "name": "stdout",
     "output_type": "stream",
     "text": [
      "captain      Monkey D. Luffy\n",
      "sordsman        Roronoa Zoro\n",
      "navigator               Nami\n",
      "dtype: object\n",
      "\n",
      "\n",
      "sniper                      Usopp\n",
      "chef               Vinsmoke Sanji\n",
      "doctor           Tony Tony Cooprt\n",
      "archaeologist          Nico Robin\n",
      "shipwright                 Franky\n",
      "musician                    Brook\n",
      "dtype: object\n"
     ]
    }
   ],
   "source": [
    "# 透過 : 快速切割\n",
    "print(ser[:3])\n",
    "print(\"\\n\")\n",
    "print(ser['sniper':])"
   ]
  },
  {
   "cell_type": "code",
   "execution_count": 24,
   "metadata": {},
   "outputs": [
    {
     "name": "stdout",
     "output_type": "stream",
     "text": [
      "navigator              Nami\n",
      "archaeologist    Nico Robin\n",
      "dtype: object\n"
     ]
    }
   ],
   "source": [
    "#透過條件判斷進行布林篩選\n",
    "\n",
    "name_filter = ser.isin((\"Nami\", \"Nico Robin\"))\n",
    "print(ser[name_filter])"
   ]
  },
  {
   "cell_type": "code",
   "execution_count": 25,
   "metadata": {},
   "outputs": [
    {
     "name": "stdout",
     "output_type": "stream",
     "text": [
      "Monkey D. Luffy     17\n",
      "Roronoa Zoro        19\n",
      "Nami                18\n",
      "Usopp               17\n",
      "Vinsmoke Sanji      19\n",
      "Tony Tony Cooprt    15\n",
      "Nico Robin          28\n",
      "Franky              34\n",
      "Brook               88\n",
      "dtype: int64\n"
     ]
    }
   ],
   "source": [
    "#element-wide運算\n",
    "\n",
    "crew_age = {\n",
    "    \"Monkey D. Luffy\" : 19,\n",
    "    \"Roronoa Zoro\" : 21,\n",
    "    \"Nami\" : 20,\n",
    "    \"Usopp\" : 19,\n",
    "    \"Vinsmoke Sanji\" : 21,\n",
    "    \"Tony Tony Cooprt\" : 17,\n",
    "    \"Nico Robin\" : 30,\n",
    "    \"Franky\" : 36,\n",
    "    \"Brook\" : 90\n",
    "}\n",
    "\n",
    "ser = pd.Series(crew_age, index=crew_age.keys())\n",
    "print(ser - 2)"
   ]
  },
  {
   "cell_type": "code",
   "execution_count": null,
   "metadata": {},
   "outputs": [],
   "source": []
  }
 ],
 "metadata": {
  "kernelspec": {
   "display_name": "Python 3",
   "language": "python",
   "name": "python3"
  },
  "language_info": {
   "codemirror_mode": {
    "name": "ipython",
    "version": 3
   },
   "file_extension": ".py",
   "mimetype": "text/x-python",
   "name": "python",
   "nbconvert_exporter": "python",
   "pygments_lexer": "ipython3",
   "version": "3.7.3"
  }
 },
 "nbformat": 4,
 "nbformat_minor": 2
}
