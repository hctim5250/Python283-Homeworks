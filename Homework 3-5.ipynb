{
 "cells": [
  {
   "cell_type": "markdown",
   "metadata": {},
   "source": [
    "寫一個 six_for_three_times() 函數計算擲幾次公正的骰子才會有三個六，並且把每次擲的記錄也回傳"
   ]
  },
  {
   "cell_type": "code",
   "execution_count": 1,
   "metadata": {
    "collapsed": true
   },
   "outputs": [],
   "source": [
    "from random import choice"
   ]
  },
  {
   "cell_type": "code",
   "execution_count": 2,
   "metadata": {
    "collapsed": true
   },
   "outputs": [],
   "source": [
    "def six_for_three_times():\n",
    "    dice = [\"1\", \"2\", \"3\", \"4\", \"5\", \"6\"]\n",
    "    flips = []\n",
    "    while flips.count(\"6\")< 3:\n",
    "        flips.append(choice(dice))\n",
    "    \n",
    "    print(\"總共擲了\", len(flips), \"次\")\n",
    "    print(\"投擲紀錄: \", flips)"
   ]
  },
  {
   "cell_type": "code",
   "execution_count": 3,
   "metadata": {
    "collapsed": false
   },
   "outputs": [
    {
     "name": "stdout",
     "output_type": "stream",
     "text": [
      "總共擲了 7 次\n",
      "投擲紀錄:  ['2', '3', '2', '6', '6', '5', '6']\n"
     ]
    }
   ],
   "source": [
    "six_for_three_times()"
   ]
  }
 ],
 "metadata": {
  "kernelspec": {
   "display_name": "Python 3",
   "language": "python",
   "name": "python3"
  },
  "language_info": {
   "codemirror_mode": {
    "name": "ipython",
    "version": 3
   },
   "file_extension": ".py",
   "mimetype": "text/x-python",
   "name": "python",
   "nbconvert_exporter": "python",
   "pygments_lexer": "ipython3",
   "version": "3.6.0"
  }
 },
 "nbformat": 4,
 "nbformat_minor": 2
}
