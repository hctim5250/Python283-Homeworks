{
 "cells": [
  {
   "cell_type": "code",
   "execution_count": 67,
   "metadata": {},
   "outputs": [],
   "source": [
    "km_list = [3, 5, 10, 21, 42, 195]\n",
    "km_to_mile = 0.621371192"
   ]
  },
  {
   "cell_type": "markdown",
   "metadata": {},
   "source": [
    "Use For Loop"
   ]
  },
  {
   "cell_type": "code",
   "execution_count": 68,
   "metadata": {},
   "outputs": [
    {
     "name": "stdout",
     "output_type": "stream",
     "text": [
      "[1.864113576, 3.10685596, 6.21371192, 13.048795032000001, 26.097590064000002, 121.16738244]\n"
     ]
    }
   ],
   "source": [
    "mile_list1 = []\n",
    "\n",
    "for km in km_list:\n",
    "    mile_list1.append(km * km_to_mile)\n",
    "\n",
    "print(mile_list1)"
   ]
  },
  {
   "cell_type": "markdown",
   "metadata": {},
   "source": [
    "Use Map & Lambda"
   ]
  },
  {
   "cell_type": "code",
   "execution_count": 69,
   "metadata": {},
   "outputs": [
    {
     "name": "stdout",
     "output_type": "stream",
     "text": [
      "[1.864113576, 3.10685596, 6.21371192, 13.048795032000001, 26.097590064000002, 121.16738244]\n"
     ]
    }
   ],
   "source": [
    "mile_list2 = []\n",
    "mile_list2 = list(map(lambda x : x * km_to_mile, km_list))\n",
    "print(mile_list2)"
   ]
  },
  {
   "cell_type": "markdown",
   "metadata": {},
   "source": [
    "ndarray"
   ]
  },
  {
   "cell_type": "code",
   "execution_count": 70,
   "metadata": {},
   "outputs": [
    {
     "name": "stdout",
     "output_type": "stream",
     "text": [
      "<class 'numpy.ndarray'>\n",
      "[ 1.86411358  3.10685596  6.21371192 13.04879503 26.21875745]\n"
     ]
    }
   ],
   "source": [
    "import numpy as np\n",
    "\n",
    "km_list2 = [3, 5, 10, 21, 42.195]\n",
    "km_array = np.array(km_list2)\n",
    "print(type(km_array))\n",
    "mile_array = km_array * km_to_mile\n",
    "print(mile_array)"
   ]
  },
  {
   "cell_type": "code",
   "execution_count": 71,
   "metadata": {},
   "outputs": [
    {
     "name": "stdout",
     "output_type": "stream",
     "text": [
      "[21.85171573 20.97505669 21.75028214 24.7473475  21.44127836]\n"
     ]
    }
   ],
   "source": [
    "heights = [173, 168, 171, 189, 179]\n",
    "weights = [65.4, 59.2, 63.6, 88.4, 68.7]\n",
    "\n",
    "heights_array = np.array(heights)\n",
    "weights_array = np.array(weights)\n",
    "BMI = weights_array / (heights_array/100) ** 2\n",
    "print(BMI)"
   ]
  },
  {
   "cell_type": "code",
   "execution_count": 72,
   "metadata": {},
   "outputs": [
    {
     "name": "stdout",
     "output_type": "stream",
     "text": [
      "<class 'numpy.ndarray'>\n"
     ]
    }
   ],
   "source": [
    "np.arange(1,10,1)\n",
    "print(type(np.arange(1,10,1)))"
   ]
  },
  {
   "cell_type": "code",
   "execution_count": 73,
   "metadata": {},
   "outputs": [
    {
     "name": "stdout",
     "output_type": "stream",
     "text": [
      "<class 'range'>\n"
     ]
    }
   ],
   "source": [
    "range(1,10,1)\n",
    "print(type(range(1,10,1)))"
   ]
  },
  {
   "cell_type": "markdown",
   "metadata": {},
   "source": [
    "建立陣列"
   ]
  },
  {
   "cell_type": "code",
   "execution_count": 74,
   "metadata": {},
   "outputs": [
    {
     "data": {
      "text/plain": [
       "array([1., 1., 1., 1., 1., 1., 1., 1., 1., 1.])"
      ]
     },
     "execution_count": 74,
     "metadata": {},
     "output_type": "execute_result"
    }
   ],
   "source": [
    "np.ones(10)"
   ]
  },
  {
   "cell_type": "code",
   "execution_count": 75,
   "metadata": {},
   "outputs": [
    {
     "data": {
      "text/plain": [
       "array([0., 0., 0., 0., 0., 0., 0., 0., 0., 0.])"
      ]
     },
     "execution_count": 75,
     "metadata": {},
     "output_type": "execute_result"
    }
   ],
   "source": [
    "np.zeros(10)"
   ]
  },
  {
   "cell_type": "markdown",
   "metadata": {},
   "source": [
    "用tuple建立多維陣列"
   ]
  },
  {
   "cell_type": "code",
   "execution_count": 76,
   "metadata": {},
   "outputs": [
    {
     "data": {
      "text/plain": [
       "array([[1., 1., 1., 1.],\n",
       "       [1., 1., 1., 1.],\n",
       "       [1., 1., 1., 1.],\n",
       "       [1., 1., 1., 1.]])"
      ]
     },
     "execution_count": 76,
     "metadata": {},
     "output_type": "execute_result"
    }
   ],
   "source": [
    "np.ones((4,4))"
   ]
  },
  {
   "cell_type": "markdown",
   "metadata": {},
   "source": [
    "建立單位矩陣 np.eye()、對角矩陣 np.diag()"
   ]
  },
  {
   "cell_type": "code",
   "execution_count": 77,
   "metadata": {},
   "outputs": [
    {
     "data": {
      "text/plain": [
       "array([[1., 0., 0., 0., 0.],\n",
       "       [0., 1., 0., 0., 0.],\n",
       "       [0., 0., 1., 0., 0.],\n",
       "       [0., 0., 0., 1., 0.],\n",
       "       [0., 0., 0., 0., 1.]])"
      ]
     },
     "execution_count": 77,
     "metadata": {},
     "output_type": "execute_result"
    }
   ],
   "source": [
    "np.eye(5)"
   ]
  },
  {
   "cell_type": "code",
   "execution_count": 78,
   "metadata": {},
   "outputs": [
    {
     "data": {
      "text/plain": [
       "array([[1, 0, 0, 0, 0, 0],\n",
       "       [0, 2, 0, 0, 0, 0],\n",
       "       [0, 0, 4, 0, 0, 0],\n",
       "       [0, 0, 0, 5, 0, 0],\n",
       "       [0, 0, 0, 0, 6, 0],\n",
       "       [0, 0, 0, 0, 0, 7]])"
      ]
     },
     "execution_count": 78,
     "metadata": {},
     "output_type": "execute_result"
    }
   ],
   "source": [
    "np.diag([1,2,4,5,6,7])"
   ]
  },
  {
   "cell_type": "markdown",
   "metadata": {},
   "source": [
    "建立符合0~1平均分布的陣列"
   ]
  },
  {
   "cell_type": "code",
   "execution_count": 79,
   "metadata": {},
   "outputs": [
    {
     "name": "stdout",
     "output_type": "stream",
     "text": [
      "[0.51070244 0.4217036  0.56932347 0.24612649 0.89756047 0.33111437]\n",
      "1000\n"
     ]
    },
    {
     "data": {
      "text/plain": [
       "<Figure size 640x480 with 1 Axes>"
      ]
     },
     "metadata": {},
     "output_type": "display_data"
    }
   ],
   "source": [
    "import matplotlib.pyplot as plt\n",
    "\n",
    "arr = np.random.rand(1000)\n",
    "print(arr[:6])\n",
    "print(len(arr))\n",
    "plt.hist(arr)\n",
    "plt.show()"
   ]
  },
  {
   "cell_type": "markdown",
   "metadata": {},
   "source": [
    "建立符合平均數0，標準差1的常態分佈陣列"
   ]
  },
  {
   "cell_type": "code",
   "execution_count": 80,
   "metadata": {},
   "outputs": [
    {
     "name": "stdout",
     "output_type": "stream",
     "text": [
      "[ 0.46504816 -0.51799943 -0.03730201  0.53373747 -0.95130434 -0.47960512]\n"
     ]
    },
    {
     "data": {
      "image/png": "[encoded data removed]",
      "text/plain": [
       "<Figure size 432x288 with 1 Axes>"
      ]
     },
     "metadata": {
      "needs_background": "light"
     },
     "output_type": "display_data"
    }
   ],
   "source": [
    "arr2 = np.random.randn(1000)\n",
    "print(arr2[:6])\n",
    "plt.hist(arr2)\n",
    "plt.show()"
   ]
  },
  {
   "cell_type": "markdown",
   "metadata": {},
   "source": [
    "np.array.random.randint(low, high, size)\n",
    "建立介於low、high之間的整數數列"
   ]
  },
  {
   "cell_type": "code",
   "execution_count": 81,
   "metadata": {},
   "outputs": [
    {
     "name": "stdout",
     "output_type": "stream",
     "text": [
      "[ 0 17 19 55 46 85 93 43 25 68]\n",
      "[[ 9 22 95 80 51]\n",
      " [43 72 94 22 78]]\n"
     ]
    }
   ],
   "source": [
    "arr3 = np.random.randint(0, 100, size=10)\n",
    "print(arr3)\n",
    "arr4 = np.random.randint(0, 100, size=(2,5))\n",
    "print(arr4)"
   ]
  },
  {
   "cell_type": "code",
   "execution_count": 82,
   "metadata": {},
   "outputs": [
    {
     "data": {
      "text/plain": [
       "array([-2.        , -1.91836735, -1.83673469, -1.75510204, -1.67346939,\n",
       "       -1.59183673, -1.51020408, -1.42857143, -1.34693878, -1.26530612,\n",
       "       -1.18367347, -1.10204082, -1.02040816, -0.93877551, -0.85714286,\n",
       "       -0.7755102 , -0.69387755, -0.6122449 , -0.53061224, -0.44897959,\n",
       "       -0.36734694, -0.28571429, -0.20408163, -0.12244898, -0.04081633,\n",
       "        0.04081633,  0.12244898,  0.20408163,  0.28571429,  0.36734694,\n",
       "        0.44897959,  0.53061224,  0.6122449 ,  0.69387755,  0.7755102 ,\n",
       "        0.85714286,  0.93877551,  1.02040816,  1.10204082,  1.18367347,\n",
       "        1.26530612,  1.34693878,  1.42857143,  1.51020408,  1.59183673,\n",
       "        1.67346939,  1.75510204,  1.83673469,  1.91836735,  2.        ])"
      ]
     },
     "execution_count": 82,
     "metadata": {},
     "output_type": "execute_result"
    }
   ],
   "source": [
    "np.linspace(-2, 2, 50)"
   ]
  },
  {
   "cell_type": "code",
   "execution_count": 83,
   "metadata": {},
   "outputs": [
    {
     "data": {
      "text/plain": [
       "array([[1., 0., 0., 0., 0.],\n",
       "       [0., 1., 0., 0., 0.],\n",
       "       [0., 0., 1., 0., 0.],\n",
       "       [0., 0., 0., 1., 0.],\n",
       "       [0., 0., 0., 0., 1.]])"
      ]
     },
     "execution_count": 83,
     "metadata": {},
     "output_type": "execute_result"
    }
   ],
   "source": [
    "np.eye(5,5)"
   ]
  },
  {
   "cell_type": "code",
   "execution_count": 84,
   "metadata": {},
   "outputs": [
    {
     "data": {
      "text/plain": [
       "array([100, 113, 147, 128, 173])"
      ]
     },
     "execution_count": 84,
     "metadata": {},
     "output_type": "execute_result"
    }
   ],
   "source": [
    "np.random.randint(100,200,5)"
   ]
  },
  {
   "cell_type": "markdown",
   "metadata": {},
   "source": [
    "資料類型\n",
    "使用dtype屬性來指定\n",
    "整數int\n",
    "int 8\n",
    "int 16\n",
    "int 32\n",
    "int 64 <- default"
   ]
  },
  {
   "cell_type": "code",
   "execution_count": 85,
   "metadata": {},
   "outputs": [
    {
     "name": "stdout",
     "output_type": "stream",
     "text": [
      "[1 1 1 1 1]\n",
      "int32\n",
      "[1 1 1 1 1]\n",
      "int8\n"
     ]
    }
   ],
   "source": [
    "arr = np.ones(5, dtype='int')\n",
    "print(arr)\n",
    "print(arr.dtype)\n",
    "\n",
    "arr = np.ones(5, dtype='int8')\n",
    "print(arr)\n",
    "print(arr.dtype)"
   ]
  },
  {
   "cell_type": "markdown",
   "metadata": {},
   "source": [
    "浮點數float\n",
    "float 16\n",
    "float 32\n",
    "float 64 <- default\n",
    "float 128"
   ]
  },
  {
   "cell_type": "code",
   "execution_count": 86,
   "metadata": {},
   "outputs": [
    {
     "name": "stdout",
     "output_type": "stream",
     "text": [
      "[1. 1. 1. 1. 1.]\n",
      "float64\n",
      "[1. 1. 1. 1. 1.]\n",
      "float16\n"
     ]
    }
   ],
   "source": [
    "arr = np.ones(5)\n",
    "print(arr)\n",
    "print(arr.dtype)\n",
    "arr = np.ones(5, dtype='float16')\n",
    "print(arr)\n",
    "print(arr.dtype)"
   ]
  },
  {
   "cell_type": "markdown",
   "metadata": {},
   "source": [
    "複數\n",
    "complex 64\n",
    "complex 128 <- default\n",
    "complex 256"
   ]
  },
  {
   "cell_type": "code",
   "execution_count": 87,
   "metadata": {},
   "outputs": [
    {
     "name": "stdout",
     "output_type": "stream",
     "text": [
      "[1.+0.j 1.+0.j 1.+0.j 1.+0.j 1.+0.j]\n",
      "complex128\n",
      "[1.+0.j 1.+0.j 1.+0.j 1.+0.j 1.+0.j]\n",
      "complex64\n"
     ]
    }
   ],
   "source": [
    "arr = np.ones(5, dtype='complex')\n",
    "print(arr)\n",
    "print(arr.dtype)\n",
    "arr = np.ones(5, dtype='complex64')\n",
    "print(arr)\n",
    "print(arr.dtype)"
   ]
  },
  {
   "cell_type": "markdown",
   "metadata": {},
   "source": [
    "布林 bool"
   ]
  },
  {
   "cell_type": "code",
   "execution_count": 88,
   "metadata": {},
   "outputs": [
    {
     "name": "stdout",
     "output_type": "stream",
     "text": [
      "[ True False]\n",
      "bool\n"
     ]
    }
   ],
   "source": [
    "arr = np.array((True, False))\n",
    "print(arr)\n",
    "print(arr.dtype)"
   ]
  },
  {
   "cell_type": "code",
   "execution_count": 89,
   "metadata": {},
   "outputs": [
    {
     "data": {
      "text/plain": [
       "array(['12', '1', '0'], dtype='<U11')"
      ]
     },
     "execution_count": 89,
     "metadata": {},
     "output_type": "execute_result"
    }
   ],
   "source": [
    "np.array((12, True, False)).astype('str')"
   ]
  },
  {
   "cell_type": "markdown",
   "metadata": {},
   "source": [
    "選擇元素"
   ]
  },
  {
   "cell_type": "code",
   "execution_count": 90,
   "metadata": {},
   "outputs": [
    {
     "name": "stdout",
     "output_type": "stream",
     "text": [
      "[0 1 2 3 4]\n",
      "0\n",
      "1\n",
      "4\n",
      "[0 2 4]\n"
     ]
    }
   ],
   "source": [
    "arr = np.arange(5)\n",
    "print(arr)\n",
    "print(arr[0])\n",
    "print(arr[1])\n",
    "print(arr[-1])\n",
    "print(arr[[0,2,4]])"
   ]
  },
  {
   "cell_type": "code",
   "execution_count": 91,
   "metadata": {},
   "outputs": [
    {
     "name": "stdout",
     "output_type": "stream",
     "text": [
      "[0 1 2 3 4]\n",
      "[0 1 2]\n",
      "[3 4]\n",
      "[0 2 4]\n"
     ]
    }
   ],
   "source": [
    "arr = np.arange(5)\n",
    "print(arr)\n",
    "print(arr[:3])\n",
    "print(arr[3:])\n",
    "print(arr[0:5:2])"
   ]
  },
  {
   "cell_type": "code",
   "execution_count": 92,
   "metadata": {},
   "outputs": [
    {
     "name": "stdout",
     "output_type": "stream",
     "text": [
      "[[0 1 2 3 4]\n",
      " [5 6 7 8 9]]\n",
      "5\n",
      "5\n",
      "\n",
      "\n",
      "[[[ 0  1  2  3  4]\n",
      "  [ 5  6  7  8  9]]\n",
      "\n",
      " [[10 11 12 13 14]\n",
      "  [15 16 17 18 19]]]\n",
      "5\n",
      "5\n"
     ]
    }
   ],
   "source": [
    "arr = np.array(range(10)).reshape(2, 5)\n",
    "print(arr)\n",
    "print(arr[1][0])\n",
    "print(arr[1, 0])\n",
    "print('\\n')\n",
    "\n",
    "arr = np.array(range(20)).reshape(2, 2, 5)\n",
    "print(arr)\n",
    "print(arr[0][1][0])\n",
    "print(arr[0, 1, 0])"
   ]
  },
  {
   "cell_type": "code",
   "execution_count": 93,
   "metadata": {},
   "outputs": [
    {
     "name": "stdout",
     "output_type": "stream",
     "text": [
      "[ True  True  True  True  True False False False False False]\n",
      "[0 1 2 3 4]\n"
     ]
    }
   ],
   "source": [
    "arr = np.array(range(10))\n",
    "num_filter = arr < 5\n",
    "print(num_filter)\n",
    "print(arr[num_filter])"
   ]
  },
  {
   "cell_type": "code",
   "execution_count": 94,
   "metadata": {},
   "outputs": [
    {
     "name": "stdout",
     "output_type": "stream",
     "text": [
      "[19 20 19 17 30 36 90]\n"
     ]
    }
   ],
   "source": [
    "age = np.array([19, 21, 20, 19, 21, 17, 30, 36, 90])\n",
    "age_result=[]\n",
    "for x in age:\n",
    "    if x<=20 or x>=30:\n",
    "        age_result.append(x)\n",
    "age_result = np.array(age_result)\n",
    "print(age_result)"
   ]
  },
  {
   "cell_type": "code",
   "execution_count": 102,
   "metadata": {},
   "outputs": [
    {
     "name": "stdout",
     "output_type": "stream",
     "text": [
      "[21.85171573 20.97505669 21.75028214 24.7473475  21.44127836]\n",
      "[21.85171573 21.75028214 24.7473475  21.44127836]\n"
     ]
    }
   ],
   "source": [
    "print(BMI)\n",
    "print(BMI[BMI>21])"
   ]
  },
  {
   "cell_type": "code",
   "execution_count": 125,
   "metadata": {},
   "outputs": [
    {
     "data": {
      "text/plain": [
       "81"
      ]
     },
     "execution_count": 125,
     "metadata": {},
     "output_type": "execute_result"
    }
   ],
   "source": [
    "nity_nine=np.fromfunction(lambda x, y: (x+1)*(y+1), (9,9)).astype('int')\n",
    "nity_nine.size"
   ]
  },
  {
   "cell_type": "code",
   "execution_count": 147,
   "metadata": {},
   "outputs": [],
   "source": [
    "def my_sd(x):\n",
    "    num = np.array(x)\n",
    "    n_sum = num.sum()\n",
    "    n_mean = num.mean()\n",
    "    sd = (sum((i-n_mean)**2 for i in num)/(num.size-1)) ** 0.5\n",
    "    return sd\n"
   ]
  },
  {
   "cell_type": "code",
   "execution_count": 148,
   "metadata": {},
   "outputs": [
    {
     "data": {
      "text/plain": [
       "3.0276503540974917"
      ]
     },
     "execution_count": 148,
     "metadata": {},
     "output_type": "execute_result"
    }
   ],
   "source": [
    "my_sd(range(10))"
   ]
  },
  {
   "cell_type": "code",
   "execution_count": 6,
   "metadata": {},
   "outputs": [
    {
     "name": "stdout",
     "output_type": "stream",
     "text": [
      "1 x 1 =  1 \n",
      "\n",
      "1 x 2 =  2 \n",
      "\n",
      "1 x 3 =  3 \n",
      "\n",
      "1 x 4 =  4 \n",
      "\n",
      "1 x 5 =  5 \n",
      "\n",
      "1 x 6 =  6 \n",
      "\n",
      "1 x 7 =  7 \n",
      "\n",
      "1 x 8 =  8 \n",
      "\n",
      "1 x 9 =  9 \n",
      "\n",
      "2 x 1 =  2 \n",
      "\n",
      "2 x 2 =  4 \n",
      "\n",
      "2 x 3 =  6 \n",
      "\n",
      "2 x 4 =  8 \n",
      "\n",
      "2 x 5 = 10 \n",
      "\n",
      "2 x 6 = 12 \n",
      "\n",
      "2 x 7 = 14 \n",
      "\n",
      "2 x 8 = 16 \n",
      "\n",
      "2 x 9 = 18 \n",
      "\n",
      "3 x 1 =  3 \n",
      "\n",
      "3 x 2 =  6 \n",
      "\n",
      "3 x 3 =  9 \n",
      "\n",
      "3 x 4 = 12 \n",
      "\n",
      "3 x 5 = 15 \n",
      "\n",
      "3 x 6 = 18 \n",
      "\n",
      "3 x 7 = 21 \n",
      "\n",
      "3 x 8 = 24 \n",
      "\n",
      "3 x 9 = 27 \n",
      "\n",
      "4 x 1 =  4 \n",
      "\n",
      "4 x 2 =  8 \n",
      "\n",
      "4 x 3 = 12 \n",
      "\n",
      "4 x 4 = 16 \n",
      "\n",
      "4 x 5 = 20 \n",
      "\n",
      "4 x 6 = 24 \n",
      "\n",
      "4 x 7 = 28 \n",
      "\n",
      "4 x 8 = 32 \n",
      "\n",
      "4 x 9 = 36 \n",
      "\n",
      "5 x 1 =  5 \n",
      "\n",
      "5 x 2 = 10 \n",
      "\n",
      "5 x 3 = 15 \n",
      "\n",
      "5 x 4 = 20 \n",
      "\n",
      "5 x 5 = 25 \n",
      "\n",
      "5 x 6 = 30 \n",
      "\n",
      "5 x 7 = 35 \n",
      "\n",
      "5 x 8 = 40 \n",
      "\n",
      "5 x 9 = 45 \n",
      "\n",
      "6 x 1 =  6 \n",
      "\n",
      "6 x 2 = 12 \n",
      "\n",
      "6 x 3 = 18 \n",
      "\n",
      "6 x 4 = 24 \n",
      "\n",
      "6 x 5 = 30 \n",
      "\n",
      "6 x 6 = 36 \n",
      "\n",
      "6 x 7 = 42 \n",
      "\n",
      "6 x 8 = 48 \n",
      "\n",
      "6 x 9 = 54 \n",
      "\n",
      "7 x 1 =  7 \n",
      "\n",
      "7 x 2 = 14 \n",
      "\n",
      "7 x 3 = 21 \n",
      "\n",
      "7 x 4 = 28 \n",
      "\n",
      "7 x 5 = 35 \n",
      "\n",
      "7 x 6 = 42 \n",
      "\n",
      "7 x 7 = 49 \n",
      "\n",
      "7 x 8 = 56 \n",
      "\n",
      "7 x 9 = 63 \n",
      "\n",
      "8 x 1 =  8 \n",
      "\n",
      "8 x 2 = 16 \n",
      "\n",
      "8 x 3 = 24 \n",
      "\n",
      "8 x 4 = 32 \n",
      "\n",
      "8 x 5 = 40 \n",
      "\n",
      "8 x 6 = 48 \n",
      "\n",
      "8 x 7 = 56 \n",
      "\n",
      "8 x 8 = 64 \n",
      "\n",
      "8 x 9 = 72 \n",
      "\n",
      "9 x 1 =  9 \n",
      "\n",
      "9 x 2 = 18 \n",
      "\n",
      "9 x 3 = 27 \n",
      "\n",
      "9 x 4 = 36 \n",
      "\n",
      "9 x 5 = 45 \n",
      "\n",
      "9 x 6 = 54 \n",
      "\n",
      "9 x 7 = 63 \n",
      "\n",
      "9 x 8 = 72 \n",
      "\n",
      "9 x 9 = 81 \n",
      "\n"
     ]
    }
   ],
   "source": [
    "i = 1\n",
    "while (i <=9):\n",
    "    j = 1\n",
    "    while (j <=9):\n",
    "        print(\"%d x %d = %2d \\n\" % (i, j, (i*j)))\n",
    "        j +=1\n",
    "    i +=1"
   ]
  },
  {
   "cell_type": "code",
   "execution_count": 12,
   "metadata": {},
   "outputs": [],
   "source": [
    "def NxNTable(x, y):\n",
    "    i = 1\n",
    "    while (i <=x):\n",
    "        j = 1\n",
    "        while (j <=y):\n",
    "            print(\"%d x %d = %2d \\n\" % (i, j, (i*j)))\n",
    "            j +=1\n",
    "        i +=1"
   ]
  },
  {
   "cell_type": "code",
   "execution_count": 13,
   "metadata": {},
   "outputs": [
    {
     "name": "stdout",
     "output_type": "stream",
     "text": [
      "1 x 1 =  1 \n",
      "\n",
      "1 x 2 =  2 \n",
      "\n",
      "1 x 3 =  3 \n",
      "\n",
      "1 x 4 =  4 \n",
      "\n",
      "1 x 5 =  5 \n",
      "\n",
      "1 x 6 =  6 \n",
      "\n",
      "1 x 7 =  7 \n",
      "\n",
      "1 x 8 =  8 \n",
      "\n",
      "1 x 9 =  9 \n",
      "\n",
      "1 x 10 = 10 \n",
      "\n",
      "1 x 11 = 11 \n",
      "\n",
      "1 x 12 = 12 \n",
      "\n",
      "1 x 13 = 13 \n",
      "\n",
      "1 x 14 = 14 \n",
      "\n",
      "1 x 15 = 15 \n",
      "\n",
      "1 x 16 = 16 \n",
      "\n",
      "1 x 17 = 17 \n",
      "\n",
      "1 x 18 = 18 \n",
      "\n",
      "1 x 19 = 19 \n",
      "\n",
      "1 x 20 = 20 \n",
      "\n",
      "1 x 21 = 21 \n",
      "\n",
      "2 x 1 =  2 \n",
      "\n",
      "2 x 2 =  4 \n",
      "\n",
      "2 x 3 =  6 \n",
      "\n",
      "2 x 4 =  8 \n",
      "\n",
      "2 x 5 = 10 \n",
      "\n",
      "2 x 6 = 12 \n",
      "\n",
      "2 x 7 = 14 \n",
      "\n",
      "2 x 8 = 16 \n",
      "\n",
      "2 x 9 = 18 \n",
      "\n",
      "2 x 10 = 20 \n",
      "\n",
      "2 x 11 = 22 \n",
      "\n",
      "2 x 12 = 24 \n",
      "\n",
      "2 x 13 = 26 \n",
      "\n",
      "2 x 14 = 28 \n",
      "\n",
      "2 x 15 = 30 \n",
      "\n",
      "2 x 16 = 32 \n",
      "\n",
      "2 x 17 = 34 \n",
      "\n",
      "2 x 18 = 36 \n",
      "\n",
      "2 x 19 = 38 \n",
      "\n",
      "2 x 20 = 40 \n",
      "\n",
      "2 x 21 = 42 \n",
      "\n",
      "3 x 1 =  3 \n",
      "\n",
      "3 x 2 =  6 \n",
      "\n",
      "3 x 3 =  9 \n",
      "\n",
      "3 x 4 = 12 \n",
      "\n",
      "3 x 5 = 15 \n",
      "\n",
      "3 x 6 = 18 \n",
      "\n",
      "3 x 7 = 21 \n",
      "\n",
      "3 x 8 = 24 \n",
      "\n",
      "3 x 9 = 27 \n",
      "\n",
      "3 x 10 = 30 \n",
      "\n",
      "3 x 11 = 33 \n",
      "\n",
      "3 x 12 = 36 \n",
      "\n",
      "3 x 13 = 39 \n",
      "\n",
      "3 x 14 = 42 \n",
      "\n",
      "3 x 15 = 45 \n",
      "\n",
      "3 x 16 = 48 \n",
      "\n",
      "3 x 17 = 51 \n",
      "\n",
      "3 x 18 = 54 \n",
      "\n",
      "3 x 19 = 57 \n",
      "\n",
      "3 x 20 = 60 \n",
      "\n",
      "3 x 21 = 63 \n",
      "\n",
      "4 x 1 =  4 \n",
      "\n",
      "4 x 2 =  8 \n",
      "\n",
      "4 x 3 = 12 \n",
      "\n",
      "4 x 4 = 16 \n",
      "\n",
      "4 x 5 = 20 \n",
      "\n",
      "4 x 6 = 24 \n",
      "\n",
      "4 x 7 = 28 \n",
      "\n",
      "4 x 8 = 32 \n",
      "\n",
      "4 x 9 = 36 \n",
      "\n",
      "4 x 10 = 40 \n",
      "\n",
      "4 x 11 = 44 \n",
      "\n",
      "4 x 12 = 48 \n",
      "\n",
      "4 x 13 = 52 \n",
      "\n",
      "4 x 14 = 56 \n",
      "\n",
      "4 x 15 = 60 \n",
      "\n",
      "4 x 16 = 64 \n",
      "\n",
      "4 x 17 = 68 \n",
      "\n",
      "4 x 18 = 72 \n",
      "\n",
      "4 x 19 = 76 \n",
      "\n",
      "4 x 20 = 80 \n",
      "\n",
      "4 x 21 = 84 \n",
      "\n",
      "5 x 1 =  5 \n",
      "\n",
      "5 x 2 = 10 \n",
      "\n",
      "5 x 3 = 15 \n",
      "\n",
      "5 x 4 = 20 \n",
      "\n",
      "5 x 5 = 25 \n",
      "\n",
      "5 x 6 = 30 \n",
      "\n",
      "5 x 7 = 35 \n",
      "\n",
      "5 x 8 = 40 \n",
      "\n",
      "5 x 9 = 45 \n",
      "\n",
      "5 x 10 = 50 \n",
      "\n",
      "5 x 11 = 55 \n",
      "\n",
      "5 x 12 = 60 \n",
      "\n",
      "5 x 13 = 65 \n",
      "\n",
      "5 x 14 = 70 \n",
      "\n",
      "5 x 15 = 75 \n",
      "\n",
      "5 x 16 = 80 \n",
      "\n",
      "5 x 17 = 85 \n",
      "\n",
      "5 x 18 = 90 \n",
      "\n",
      "5 x 19 = 95 \n",
      "\n",
      "5 x 20 = 100 \n",
      "\n",
      "5 x 21 = 105 \n",
      "\n",
      "6 x 1 =  6 \n",
      "\n",
      "6 x 2 = 12 \n",
      "\n",
      "6 x 3 = 18 \n",
      "\n",
      "6 x 4 = 24 \n",
      "\n",
      "6 x 5 = 30 \n",
      "\n",
      "6 x 6 = 36 \n",
      "\n",
      "6 x 7 = 42 \n",
      "\n",
      "6 x 8 = 48 \n",
      "\n",
      "6 x 9 = 54 \n",
      "\n",
      "6 x 10 = 60 \n",
      "\n",
      "6 x 11 = 66 \n",
      "\n",
      "6 x 12 = 72 \n",
      "\n",
      "6 x 13 = 78 \n",
      "\n",
      "6 x 14 = 84 \n",
      "\n",
      "6 x 15 = 90 \n",
      "\n",
      "6 x 16 = 96 \n",
      "\n",
      "6 x 17 = 102 \n",
      "\n",
      "6 x 18 = 108 \n",
      "\n",
      "6 x 19 = 114 \n",
      "\n",
      "6 x 20 = 120 \n",
      "\n",
      "6 x 21 = 126 \n",
      "\n",
      "7 x 1 =  7 \n",
      "\n",
      "7 x 2 = 14 \n",
      "\n",
      "7 x 3 = 21 \n",
      "\n",
      "7 x 4 = 28 \n",
      "\n",
      "7 x 5 = 35 \n",
      "\n",
      "7 x 6 = 42 \n",
      "\n",
      "7 x 7 = 49 \n",
      "\n",
      "7 x 8 = 56 \n",
      "\n",
      "7 x 9 = 63 \n",
      "\n",
      "7 x 10 = 70 \n",
      "\n",
      "7 x 11 = 77 \n",
      "\n",
      "7 x 12 = 84 \n",
      "\n",
      "7 x 13 = 91 \n",
      "\n",
      "7 x 14 = 98 \n",
      "\n",
      "7 x 15 = 105 \n",
      "\n",
      "7 x 16 = 112 \n",
      "\n",
      "7 x 17 = 119 \n",
      "\n",
      "7 x 18 = 126 \n",
      "\n",
      "7 x 19 = 133 \n",
      "\n",
      "7 x 20 = 140 \n",
      "\n",
      "7 x 21 = 147 \n",
      "\n"
     ]
    }
   ],
   "source": [
    "NxNTable(7,21)"
   ]
  },
  {
   "cell_type": "code",
   "execution_count": 15,
   "metadata": {},
   "outputs": [
    {
     "data": {
      "text/plain": [
       "range(2, 10)"
      ]
     },
     "execution_count": 15,
     "metadata": {},
     "output_type": "execute_result"
    }
   ],
   "source": [
    "range(2,10)"
   ]
  },
  {
   "cell_type": "code",
   "execution_count": 18,
   "metadata": {},
   "outputs": [
    {
     "data": {
      "text/plain": [
       "[2, 3, 4, 5, 6, 7, 8, 9, 10]"
      ]
     },
     "execution_count": 18,
     "metadata": {},
     "output_type": "execute_result"
    }
   ],
   "source": [
    "list(range(2,10+1))"
   ]
  },
  {
   "cell_type": "code",
   "execution_count": null,
   "metadata": {},
   "outputs": [],
   "source": [
    "def is_prime(x):\n",
    "    num = x\n",
    "    i = 2\n",
    "    prime = True\n",
    "    while (i <= int(num) ** 0.5):\n",
    "        if (int(num) % i == 0):\n",
    "            prime = False\n",
    "        i += 1\n",
    "    if (prime == False):\n",
    "        print(\"%s不是質數\"%num)\n",
    "    else:\n",
    "        print(\"%s是質數\"%num)"
   ]
  },
  {
   "cell_type": "code",
   "execution_count": 58,
   "metadata": {},
   "outputs": [],
   "source": [
    "def is_prime2(x):\n",
    "    try:\n",
    "        num = int(x)\n",
    "        if num >= 0 :\n",
    "            prime = True\n",
    "            for i in range(2,x):\n",
    "                if num % i == 0 : prime = False\n",
    "            if (x == 0 or x == 1):\n",
    "                print(\"%s是自然數\"%num)\n",
    "            elif (prime == False):\n",
    "                print(\"%s不是質數\"%num)\n",
    "            else:\n",
    "                print(\"%s是質數\"%num)\n",
    "        else:\n",
    "            print(\"輸入錯誤\")\n",
    "    except:\n",
    "        print(\"輸入錯誤，請檢查輸入格式\")"
   ]
  },
  {
   "cell_type": "code",
   "execution_count": 62,
   "metadata": {},
   "outputs": [
    {
     "name": "stdout",
     "output_type": "stream",
     "text": [
      "3是質數\n"
     ]
    }
   ],
   "source": [
    "is_prime2(3)"
   ]
  },
  {
   "cell_type": "code",
   "execution_count": null,
   "metadata": {},
   "outputs": [],
   "source": []
  }
 ],
 "metadata": {
  "kernelspec": {
   "display_name": "Python 3",
   "language": "python",
   "name": "python3"
  },
  "language_info": {
   "codemirror_mode": {
    "name": "ipython",
    "version": 3
   },
   "file_extension": ".py",
   "mimetype": "text/x-python",
   "name": "python",
   "nbconvert_exporter": "python",
   "pygments_lexer": "ipython3",
   "version": "3.7.3"
  }
 },
 "nbformat": 4,
 "nbformat_minor": 2
}
